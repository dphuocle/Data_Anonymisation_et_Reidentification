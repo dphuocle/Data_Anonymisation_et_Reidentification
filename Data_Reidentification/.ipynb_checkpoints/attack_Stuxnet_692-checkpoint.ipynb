{
 "cells": [
  {
   "cell_type": "code",
   "execution_count": null,
   "id": "07563633",
   "metadata": {},
   "outputs": [],
   "source": [
    "import numpy as np\n",
    "import pandas as pd\n",
    "import datetime as dt\n",
    "import random\n",
    "import string\n",
    "import hashlib\n",
    "import json\n",
    "\n",
    "#Loading original data\n",
    "columns_name = ['id', 'date', 'latitude', 'longitude' ]\n",
    "\n",
    "df = pd.read_csv('real_data_set.csv', names = columns_name, sep = '\\t')\n",
    "df['date'] = df['date'].str.slice(stop = 16)\n",
    "df['date'] = pd.to_datetime(df['date'], format = \"%Y-%m-%d %H:%M\")\n",
    "df['week'] = df['date'].dt.isocalendar().week"
   ]
  },
  {
   "cell_type": "code",
   "execution_count": null,
   "id": "4c19474b",
   "metadata": {},
   "outputs": [],
   "source": [
    "anon = pd.read_csv('C:/Users/Phuoc Le/Data_Anom/Stuxnet_692', names = columns_name, sep = '\\t')\n",
    "anon = anon.loc[anon.id != 'DEL']\n",
    "anon['date'] = anon['date'].str.slice(stop = 16)\n",
    "anon['date'] = pd.to_datetime(anon['date'], format = \"%Y-%m-%d %H:%M\")\n",
    "anon['week'] = anon['date'].dt.isocalendar().week\n",
    "anon.latitude = anon.latitude.astype(float)\n",
    "anon.longitude = anon.longitude.astype(float)"
   ]
  },
  {
   "cell_type": "code",
   "execution_count": null,
   "id": "f80ad62c",
   "metadata": {},
   "outputs": [],
   "source": [
    "print(df)"
   ]
  },
  {
   "cell_type": "code",
   "execution_count": null,
   "id": "a39516ac",
   "metadata": {},
   "outputs": [],
   "source": [
    "print(anon)"
   ]
  },
  {
   "cell_type": "code",
   "execution_count": null,
   "id": "17b8a136",
   "metadata": {},
   "outputs": [],
   "source": [
    "#List of id origin, id anonym, group of id-week\n",
    "\n",
    "id_week_ori = df.groupby('id')['week'].unique()\n",
    "id_week_anon = anon.groupby('id')['week'].unique()\n",
    "\n",
    "list_id_ori = df[\"id\"].unique()\n",
    "list_id_anon = anon[\"id\"].unique()\n",
    "\n",
    "print(np.sort(list_id_ori), len(list_id_ori))\n",
    "print(np.sort(list_id_anon), len(list_id_anon))"
   ]
  },
  {
   "cell_type": "code",
   "execution_count": null,
   "id": "1337d927",
   "metadata": {},
   "outputs": [],
   "source": [
    "#Group id--week--moyen_latitude--moyen_longitude--mean_date--count_line--mean_hour\n",
    "\n",
    "#Original Table\n",
    "df['hour'] = df['date'].dt.hour\n",
    "mean_hour = df.groupby(['id','week'])['hour'].mean()\n",
    "\n",
    "mean_lat_ori = df.groupby(['id','week'])['latitude'].mean()\n",
    "mean_long_ori = df.groupby(['id','week'])['longitude'].mean()\n",
    "\n",
    "mean_date_ori = df.groupby(['id','week'])['date'].mean()\n",
    "count_ligne_ori = df.groupby(['id','week'])['date'].count()\n",
    "mean_hour_ori = df.groupby(['id','week'])['hour'].mean()\n",
    "\n",
    "ori_mean = df[['id','week']].drop_duplicates().reset_index(drop=True)\n",
    "ori_mean['mean_latitude'] = ori_mean.apply(lambda x: mean_lat_ori[x.id][x.week], axis=1)\n",
    "ori_mean['mean_longitude'] = ori_mean.apply(lambda x: mean_long_ori[x.id][x.week], axis=1)\n",
    "ori_mean['mean_date'] = ori_mean.apply(lambda x: mean_date_ori[x.id][x.week], axis=1)\n",
    "ori_mean['count_line'] = ori_mean.apply(lambda x: count_ligne_ori[x.id][x.week], axis=1)\n",
    "ori_mean['mean_hour'] = ori_mean.apply(lambda x: mean_hour[x.id][x.week], axis=1)\n",
    "\n",
    "#Anonymisation Table\n",
    "anon['hour'] = anon['date'].dt.hour\n",
    "mean_lat_anon = anon.groupby(['id','week'])['latitude'].mean()\n",
    "mean_long_anon = anon.groupby(['id','week'])['longitude'].mean()\n",
    "mean_date_anon = anon.groupby(['id','week'])['date'].mean()\n",
    "count_ligne_anon = anon.groupby(['id','week'])['date'].count()\n",
    "mean_hour_anon = anon.groupby(['id','week'])['hour'].mean()\n",
    "\n",
    "anon_mean = anon[['id','week']].drop_duplicates().reset_index(drop=True)\n",
    "anon_mean['mean_latitude'] = anon_mean.apply(lambda x: mean_lat_anon[x.id][x.week] , axis=1)\n",
    "anon_mean['mean_longitude'] = anon_mean.apply(lambda x: mean_long_anon[x.id][x.week], axis=1)\n",
    "anon_mean['mean_date'] = anon_mean.apply(lambda x: mean_date_anon[x.id][x.week], axis=1)\n",
    "anon_mean['count_line'] = anon_mean.apply(lambda x: count_ligne_anon[x.id][x.week], axis=1)\n",
    "anon_mean['mean_hour'] = anon_mean.apply(lambda x: mean_hour_anon[x.id][x.week], axis=1)"
   ]
  },
  {
   "cell_type": "code",
   "execution_count": null,
   "id": "e287f9bb",
   "metadata": {},
   "outputs": [],
   "source": [
    "ori_mean['new_id'] = ori_mean['id']\n",
    "scale = anon.shape[0] / df.shape[0]\n",
    "for i in list_id_ori:\n",
    "    for w in id_week_ori[i]:\n",
    "        list_distance = list() \n",
    "        mean_lat = ori_mean.loc[(ori_mean.id == i)&(ori_mean.week ==w),'mean_latitude'].to_list()[0]\n",
    "        mean_long = ori_mean.loc[(ori_mean.id == i)&(ori_mean.week ==w),'mean_longitude'].to_list()[0]\n",
    "        mean_date = ori_mean.loc[(ori_mean.id == i)&(ori_mean.week ==w),'mean_date'].to_list()[0]\n",
    "        number_line = ori_mean.loc[(ori_mean.id == i)&(ori_mean.week ==w),'count_line'].to_list()[0]\n",
    "        mean_hour = ori_mean.loc[(ori_mean.id == i)&(ori_mean.week ==w),'mean_hour'].to_list()[0]\n",
    "        \n",
    "        group_week = anon_mean.loc[anon_mean.week ==w,['id','week','mean_latitude','mean_longitude','count_line','mean_date','mean_hour']].reset_index(drop=True)\n",
    "        for j in range(len(group_week)):\n",
    "            distance = np.power((group_week.mean_latitude[j] - mean_lat)**2 + (group_week.mean_longitude[j] - mean_long)**2, 1/2)\n",
    "            \n",
    "            delta_ratio = np.power(abs((group_week.count_line[j]/anon.shape[0] - number_line/df.shape[0])),1)\n",
    "            delta_time = np.power(abs((group_week.mean_date[j] - mean_date).total_seconds() / 3600),1)\n",
    "            \n",
    "            \n",
    "            delta_hour = np.power(abs((group_week.mean_hour[j] - mean_hour)),1/2)\n",
    "            \n",
    "            list_distance.append(distance*delta_ratio*delta_hour*delta_time)\n",
    "            \n",
    "        index = list_distance.index(min(list_distance))\n",
    "        l = id_week_anon[group_week.id[index]]# list of week have id anon_mean.id[index] \n",
    "        while ((w not in l)):\n",
    "            list_distance[index] = 1000000000\n",
    "            index = list_distance.index(min(list_distance).all())\n",
    "            l = id_week_anon[group_week.id[index]]\n",
    "        if (w in l):\n",
    "            ori_mean.loc[(ori_mean.id == i)&(ori_mean.week ==w),'new_id'] = group_week.id[index]\n",
    "        \n",
    "#print(ori_mean.head())\n",
    "print(ori_mean.new_id.nunique())\n",
    "\n",
    "result = {}\n",
    "count2 = 0\n",
    "for i in list_id_ori:\n",
    "    result[str(i)] = {}\n",
    "    for w in id_week_ori[i]:\n",
    "        result[str(i)]['2015'+'-'+str(w)] = [str(ori_mean.loc[(ori_mean.id == i)&(ori_mean.week ==w),'new_id'][count2])]\n",
    "        count2 +=1\n",
    "print(result)"
   ]
  },
  {
   "cell_type": "code",
   "execution_count": null,
   "id": "977fd086",
   "metadata": {},
   "outputs": [],
   "source": [
    "jsonData = json.dumps(result, indent=4)\n",
    "print(jsonData)"
   ]
  }
 ],
 "metadata": {
  "kernelspec": {
   "display_name": "Python 3 (ipykernel)",
   "language": "python",
   "name": "python3"
  },
  "language_info": {
   "codemirror_mode": {
    "name": "ipython",
    "version": 3
   },
   "file_extension": ".py",
   "mimetype": "text/x-python",
   "name": "python",
   "nbconvert_exporter": "python",
   "pygments_lexer": "ipython3",
   "version": "3.11.4"
  }
 },
 "nbformat": 4,
 "nbformat_minor": 5
}
